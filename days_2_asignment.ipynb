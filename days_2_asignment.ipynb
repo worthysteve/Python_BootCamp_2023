{
 "cells": [
  {
   "cell_type": "code",
   "execution_count": 9,
   "id": "0c8c296e",
   "metadata": {},
   "outputs": [
    {
     "name": "stdout",
     "output_type": "stream",
     "text": [
      "Select unit of: 1. is for Kg and meters and 2. is for lbs and inches\n",
      "Please enter your choice of unit (1 or 2): 1\n",
      "Please input your weight in Kg \n",
      "2\n",
      "Please input your height in meters \n",
      "1\n",
      "Your BMI is: 2.0\n",
      "You are underweight\n"
     ]
    }
   ],
   "source": [
    "def calculate_bmi(weight, height):\n",
    "    bmi = weight / height ** 2\n",
    "    return round(bmi, 2)\n",
    "\n",
    "def convert_pounds(pounds):\n",
    "      return pounds / 2.20462\n",
    "\n",
    "def convert_inches(inches):\n",
    "     return inches / 39.3701\n",
    "\n",
    "\n",
    "print(\"Select unit of: 1. is for Kg and meters and 2. is for lbs and inches\")\n",
    "       \n",
    "unit = int(input(\"Please enter your choice of unit (1 or 2): \"))\n",
    "    \n",
    "if unit == 1:\n",
    "    weight = float(input('Please input your weight in Kg \\n'))\n",
    "    height = float(input(\"Please input your height in meters \\n\"))\n",
    "       \n",
    "elif unit == 2:\n",
    "    weight = float(input('Please input your weight in Kg \\n'))\n",
    "    height = float(input(\"Please input your height in meters \\n\"))\n",
    "            \n",
    "    weight = convert_pounds(pounds)\n",
    "    height = convert_inches(inches)\n",
    "    \n",
    "else:\n",
    "    print(\"Your choice is invalid. Please enter 1 or 2\")\n",
    "\n",
    " \n",
    "bmi = calculate_bmi(weight, height)\n",
    "print(f\"Your BMI is: {bmi}\")\n",
    "       \n",
    "if bmi < 18.5:\n",
    "    print(\"You are underweight\")\n",
    "       \n",
    "elif bmi <= 24.9:\n",
    "    print(\"You have a normal weight\")\n",
    "       \n",
    "elif bmi <= 29.9:\n",
    "    print(\"You are overweight\")\n",
    "      \n",
    "else:\n",
    "    print(\"You are Obess\")"
   ]
  },
  {
   "cell_type": "code",
   "execution_count": null,
   "id": "07856c28",
   "metadata": {},
   "outputs": [],
   "source": []
  }
 ],
 "metadata": {
  "kernelspec": {
   "display_name": "Python 3 (ipykernel)",
   "language": "python",
   "name": "python3"
  },
  "language_info": {
   "codemirror_mode": {
    "name": "ipython",
    "version": 3
   },
   "file_extension": ".py",
   "mimetype": "text/x-python",
   "name": "python",
   "nbconvert_exporter": "python",
   "pygments_lexer": "ipython3",
   "version": "3.11.4"
  }
 },
 "nbformat": 4,
 "nbformat_minor": 5
}
