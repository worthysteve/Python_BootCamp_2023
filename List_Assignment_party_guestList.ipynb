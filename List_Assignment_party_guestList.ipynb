{
 "cells": [
  {
   "cell_type": "code",
   "execution_count": 4,
   "id": "46a682cb",
   "metadata": {},
   "outputs": [
    {
     "name": "stdout",
     "output_type": "stream",
     "text": [
      "What do you want to me to do for you? 1\n",
      "Enter the guest's name\n",
      "Malcolm\n"
     ]
    }
   ],
   "source": [
    "guest_list = ['Steven', 'Marion', 'Becky']\n",
    "           \n",
    "option = input(\"What do you want to me to do for you? \")\n",
    "        \n",
    "if option == \"1\":\n",
    "    guest = input(\"Enter the guest's name\\n\")\n",
    "    guest_list.append(guest)\n",
    "elif option == \"2\":\n",
    "    guest = input(\"Enter the guest's name\\n\")\n",
    "    if guest in guest_list:\n",
    "        guest_list.remove(guest)\n",
    "        print(f\"{guest} has been removed from the list\")\n",
    "    else:\n",
    "        print(f\"{guest} is not on the list\")\n",
    "        \n",
    "elif option == \"3\":\n",
    "    print(\"Guest List\")\n",
    "            \n",
    "    for g in guest_list:\n",
    "        print(g)\n",
    "                \n",
    "else:\n",
    "    print(\"I can't possibly understand what you want, please ener a valid option!\")\n",
    "        "
   ]
  },
  {
   "cell_type": "code",
   "execution_count": 2,
   "id": "93d8e69d",
   "metadata": {},
   "outputs": [
    {
     "name": "stdout",
     "output_type": "stream",
     "text": [
      "['Steven', 'Becky']\n"
     ]
    }
   ],
   "source": [
    "print(guest_list)"
   ]
  },
  {
   "cell_type": "code",
   "execution_count": 5,
   "id": "2a3b9793",
   "metadata": {},
   "outputs": [
    {
     "name": "stdout",
     "output_type": "stream",
     "text": [
      "['Steven', 'Marion', 'Becky', 'Malcolm']\n"
     ]
    }
   ],
   "source": [
    "print(guest_list)"
   ]
  },
  {
   "cell_type": "code",
   "execution_count": null,
   "id": "b15b9459",
   "metadata": {},
   "outputs": [],
   "source": []
  }
 ],
 "metadata": {
  "kernelspec": {
   "display_name": "Python 3 (ipykernel)",
   "language": "python",
   "name": "python3"
  },
  "language_info": {
   "codemirror_mode": {
    "name": "ipython",
    "version": 3
   },
   "file_extension": ".py",
   "mimetype": "text/x-python",
   "name": "python",
   "nbconvert_exporter": "python",
   "pygments_lexer": "ipython3",
   "version": "3.11.4"
  }
 },
 "nbformat": 4,
 "nbformat_minor": 5
}
