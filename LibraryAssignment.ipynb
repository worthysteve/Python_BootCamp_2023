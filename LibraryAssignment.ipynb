{
 "cells": [
  {
   "cell_type": "code",
   "execution_count": 1,
   "id": "89dcfd49",
   "metadata": {},
   "outputs": [],
   "source": [
    "import sqlite3\n",
    "\n",
    "conn = sqlite3.connect('PersonalLibrary.db')\n",
    "c = conn.cursor()\n",
    "\n",
    "c.execute('''\n",
    "CREATE TABLE IF NOT EXISTS Books (\n",
    "    BookID INTEGER UNIQUE, \n",
    "\tTitle VARCHAR(128),\n",
    "\tAuthor VARCHAR(128),\n",
    "\tYearPublished INTEGER,\n",
    "\tGenre VARCHAR(128),\n",
    "    PRIMARY KEY(BookID)\n",
    ")\n",
    "''')\n",
    "\n",
    "conn.commit()"
   ]
  },
  {
   "cell_type": "code",
   "execution_count": 2,
   "id": "997e5886",
   "metadata": {},
   "outputs": [],
   "source": [
    "conn = sqlite3.connect('PersonalLibrary.db') \n",
    "c = conn.cursor()\n",
    "\n",
    "\n",
    "c.execute(\"INSERT INTO Books (BookID, Title, Author, YearPublished, Genre) VALUES (?, ?, ?, ?, ?)\", (1100, \"Rich Dad Poor Dad\", \"Robert T. Kiyoski\", 1997, 'Business'))\n",
    "c.execute(\"INSERT INTO Books (BookID, Title, Author, YearPublished, Genre) VALUES (?, ?, ?, ?, ?)\", (1101, \"Utopia\", \"Thomas More\", 2021, 'Satire'))\n",
    "c.execute(\"INSERT INTO Books (BookID, Title, Author, YearPublished, Genre) VALUES (?, ?, ?, ?, ?)\", (1102, \"Things Fall Apart\", \"Chinua Achebe\", 2004, 'Drama'))\n",
    "c.execute(\"INSERT INTO Books (BookID, Title, Author, YearPublished, Genre) VALUES (?, ?, ?, ?, ?)\", (1103, \"Lord Of The Flies\", \"William Golding\", 2006, 'Fiction'))\n",
    "c.execute(\"INSERT INTO Books (BookID, Title, Author, YearPublished, Genre) VALUES (?, ?, ?, ?, ?)\", (1104, \"Radical Inclusion: Seven Steps to Help You Create a More Just Workplace, Home, and World\", \"David Moinina Sengeh\", 2023, 'Self-Help'))\n",
    "c.execute(\"INSERT INTO Books (BookID, Title, Author, YearPublished, Genre) VALUES (?, ?, ?, ?, ?)\", (1105, \"The Lean Startup\", \"Eric Ries\", 2014, 'Entrepreneurship'))\n",
    "\n",
    "conn.commit() "
   ]
  },
  {
   "cell_type": "code",
   "execution_count": 3,
   "id": "4eb5a7a0",
   "metadata": {},
   "outputs": [
    {
     "name": "stdout",
     "output_type": "stream",
     "text": [
      "(1100, 'Rich Dad Poor Dad', 'Robert T. Kiyoski', 1997, 'Business')\n",
      "(1101, 'Utopia', 'Thomas More', 2021, 'Satire')\n",
      "(1102, 'Things Fall Apart', 'Chinua Achebe', 2004, 'Drama')\n",
      "(1103, 'Lord Of The Flies', 'William Golding', 2006, 'Fiction')\n",
      "(1104, 'Radical Inclusion: Seven Steps to Help You Create a More Just Workplace, Home, and World', 'David Moinina Sengeh', 2023, 'Self-Help')\n",
      "(1105, 'The Lean Startup', 'Eric Ries', 2014, 'Entrepreneurship')\n"
     ]
    }
   ],
   "source": [
    "conn = sqlite3.connect('PersonalLibrary.db')\n",
    "c = conn.cursor()\n",
    "\n",
    "c.execute(\"SELECT * FROM Books\")\n",
    "\n",
    "rows = c.fetchall() \n",
    "\n",
    "\n",
    "\n",
    "for row in rows:\n",
    "    print(row)"
   ]
  },
  {
   "cell_type": "code",
   "execution_count": 4,
   "id": "2ba5b71d",
   "metadata": {},
   "outputs": [
    {
     "name": "stdout",
     "output_type": "stream",
     "text": [
      "(1101, 'Utopia', 'Thomas More', 2021, 'Satire')\n",
      "(1104, 'Radical Inclusion: Seven Steps to Help You Create a More Just Workplace, Home, and World', 'David Moinina Sengeh', 2023, 'Self-Help')\n",
      "(1105, 'The Lean Startup', 'Eric Ries', 2014, 'Entrepreneurship')\n"
     ]
    }
   ],
   "source": [
    "conn = sqlite3.connect('PersonalLibrary.db')\n",
    "c = conn.cursor()\n",
    "\n",
    "c.execute(\"SELECT * FROM Books WHERE YearPublished >= 2010\")\n",
    "\n",
    "rows = c.fetchall() \n",
    "\n",
    "\n",
    "\n",
    "for row in rows:\n",
    "    print(row)"
   ]
  },
  {
   "cell_type": "code",
   "execution_count": 10,
   "id": "d485cf3f",
   "metadata": {},
   "outputs": [
    {
     "name": "stdout",
     "output_type": "stream",
     "text": [
      "(1103, 'Lord Of The Flies', 'William Golding', 2006, 'Fiction')\n"
     ]
    }
   ],
   "source": [
    "conn = sqlite3.connect('PersonalLibrary.db')\n",
    "c = conn.cursor()\n",
    "\n",
    "c.execute(\"SELECT * FROM Books WHERE Genre = 'Fiction'\")\n",
    "\n",
    "rows = c.fetchall() \n",
    "\n",
    "\n",
    "\n",
    "for row in rows:\n",
    "    print(row)\n",
    "    \n",
    "conn.close()"
   ]
  },
  {
   "cell_type": "code",
   "execution_count": null,
   "id": "6b726e6c",
   "metadata": {},
   "outputs": [],
   "source": []
  }
 ],
 "metadata": {
  "kernelspec": {
   "display_name": "Python 3 (ipykernel)",
   "language": "python",
   "name": "python3"
  },
  "language_info": {
   "codemirror_mode": {
    "name": "ipython",
    "version": 3
   },
   "file_extension": ".py",
   "mimetype": "text/x-python",
   "name": "python",
   "nbconvert_exporter": "python",
   "pygments_lexer": "ipython3",
   "version": "3.11.4"
  }
 },
 "nbformat": 4,
 "nbformat_minor": 5
}
