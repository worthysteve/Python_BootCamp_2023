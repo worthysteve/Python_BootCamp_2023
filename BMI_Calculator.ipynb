{
 "cells": [
  {
   "cell_type": "code",
   "execution_count": 15,
   "id": "5b68dec8",
   "metadata": {},
   "outputs": [
    {
     "name": "stdout",
     "output_type": "stream",
     "text": [
      "Please enter your weight in kilograms: \n",
      "70\n",
      "Please enter your height in meters: \n",
      "1.75\n",
      "Your BMI is: 22.857142857142858\n",
      "You have a normal weight\n"
     ]
    }
   ],
   "source": [
    "while True:\n",
    "    weight = float(input(\"Please enter your weight in kilograms: \\n\")) \n",
    "    if not weight:\n",
    "        print(\"Sorry you cannot enter 0 for weight\")\n",
    "   \n",
    "    elif weight <= 0:\n",
    "        print(\"You cannot enter a negative value for weight\")\n",
    "    else:\n",
    "        break\n",
    "\n",
    "while True:\n",
    "    height = float(input(\"Please enter your height in meters: \\n\"))\n",
    "    if not height:\n",
    "        print(\"Sorry you cannot enter 0 for height\")\n",
    "     \n",
    "    elif height <= 0:\n",
    "        print(\"You cannot enter a negative value for height\")\n",
    "    else:\n",
    "        break\n",
    "\n",
    "bmi = weight/height**2\n",
    "print(f\"Your BMI is: {bmi}\")\n",
    "\n",
    "if bmi < 18.5:\n",
    "    print(\"You are underweight\")\n",
    "elif bmi <= 24.9:\n",
    "    print(\"You have a normal weight\")\n",
    "elif bmi <= 29.9:\n",
    "    print(\"You are overweight\")\n",
    "else:\n",
    "    print(\"You are Obess\")"
   ]
  },
  {
   "cell_type": "code",
   "execution_count": null,
   "id": "6a61c612",
   "metadata": {},
   "outputs": [],
   "source": []
  }
 ],
 "metadata": {
  "kernelspec": {
   "display_name": "Python 3 (ipykernel)",
   "language": "python",
   "name": "python3"
  },
  "language_info": {
   "codemirror_mode": {
    "name": "ipython",
    "version": 3
   },
   "file_extension": ".py",
   "mimetype": "text/x-python",
   "name": "python",
   "nbconvert_exporter": "python",
   "pygments_lexer": "ipython3",
   "version": "3.11.4"
  }
 },
 "nbformat": 4,
 "nbformat_minor": 5
}
