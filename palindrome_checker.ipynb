{
 "cells": [
  {
   "cell_type": "code",
   "execution_count": 8,
   "id": "047099f0",
   "metadata": {},
   "outputs": [
    {
     "name": "stdout",
     "output_type": "stream",
     "text": [
      "Please enter a word or a phrase \n",
      "Sit on a potato pan, Otis.\n",
      "True\n",
      "True\n"
     ]
    }
   ],
   "source": [
    "def clean_input_string(input_string):\n",
    "    ignore_non_alphanumeric = ''.join(\n",
    "    char for char in input_string\n",
    "    if char.isalnum()).lower()\n",
    "    return ignore_non_alphanumeric\n",
    "\n",
    "def is_palindrome_while(input_string: str) -> bool:\n",
    "    ignore_non_alphanumeric = clean_input_string(input_string)\n",
    "    \n",
    "    left = 0\n",
    "    right = len(ignore_non_alphanumeric) - 1\n",
    "    \n",
    "    while left < right:\n",
    "        if ignore_non_alphanumeric[left] != ignore_non_alphanumeric[right]:\n",
    "            return False\n",
    "        left += 1\n",
    "        right -= 1\n",
    "    \n",
    "    return True\n",
    "\n",
    "def is_palindrome_for(input_string: str) -> bool:\n",
    "    ignore_non_alphanumeric = clean_input_string(input_string)\n",
    "    \n",
    "    for i in range(len(ignore_non_alphanumeric) // 2):\n",
    "        if ignore_non_alphanumeric[i] != ignore_non_alphanumeric[len(ignore_non_alphanumeric) - 1 - i]:\n",
    "            return False\n",
    "        \n",
    "        return True\n",
    "    \n",
    "\n",
    "input_string = input(\"Please enter a word or a phrase \\n\")\n",
    "\n",
    "if is_palindrome_while(input_string):\n",
    "    print(True)\n",
    "else:\n",
    "    print(False)\n",
    "\n",
    "if is_palindrome_for(input_string):\n",
    "    print(True)\n",
    "else:\n",
    "    print(False)\n"
   ]
  },
  {
   "cell_type": "code",
   "execution_count": null,
   "id": "a6ab9565",
   "metadata": {},
   "outputs": [],
   "source": []
  }
 ],
 "metadata": {
  "kernelspec": {
   "display_name": "Python 3 (ipykernel)",
   "language": "python",
   "name": "python3"
  },
  "language_info": {
   "codemirror_mode": {
    "name": "ipython",
    "version": 3
   },
   "file_extension": ".py",
   "mimetype": "text/x-python",
   "name": "python",
   "nbconvert_exporter": "python",
   "pygments_lexer": "ipython3",
   "version": "3.11.4"
  }
 },
 "nbformat": 4,
 "nbformat_minor": 5
}
